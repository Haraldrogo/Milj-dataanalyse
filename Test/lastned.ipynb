{
 "cells": [
  {
   "cell_type": "code",
   "execution_count": 1,
   "metadata": {},
   "outputs": [
    {
     "name": "stdout",
     "output_type": "stream",
     "text": [
      "   AGE  GENDER  SMOKING  FINGER_DISCOLORATION  MENTAL_STRESS  \\\n",
      "0   68       1        1                     1              1   \n",
      "1   81       1        1                     0              0   \n",
      "2   58       1        1                     0              0   \n",
      "3   44       0        1                     0              1   \n",
      "4   72       0        1                     1              1   \n",
      "\n",
      "   EXPOSURE_TO_POLLUTION  LONG_TERM_ILLNESS  ENERGY_LEVEL  IMMUNE_WEAKNESS  \\\n",
      "0                      1                  0     57.831178                0   \n",
      "1                      1                  1     47.694835                1   \n",
      "2                      0                  0     59.577435                0   \n",
      "3                      1                  0     59.785767                0   \n",
      "4                      1                  1     59.733941                0   \n",
      "\n",
      "   BREATHING_ISSUE  ALCOHOL_CONSUMPTION  THROAT_DISCOMFORT  OXYGEN_SATURATION  \\\n",
      "0                0                    1                  1          95.977287   \n",
      "1                1                    0                  1          97.184483   \n",
      "2                1                    1                  0          94.974939   \n",
      "3                1                    0                  1          95.187900   \n",
      "4                1                    0                  1          93.503008   \n",
      "\n",
      "   CHEST_TIGHTNESS  FAMILY_HISTORY  SMOKING_FAMILY_HISTORY  STRESS_IMMUNE  \\\n",
      "0                1               0                       0              0   \n",
      "1                0               0                       0              0   \n",
      "2                0               0                       0              0   \n",
      "3                0               0                       0              0   \n",
      "4                0               0                       0              0   \n",
      "\n",
      "  PULMONARY_DISEASE  \n",
      "0                NO  \n",
      "1               YES  \n",
      "2                NO  \n",
      "3               YES  \n",
      "4               YES  \n"
     ]
    }
   ],
   "source": [
    "import pandas as pd \n",
    "\n",
    "file = \"Lung Cancer Dataset.csv\"\n",
    "df = pd.read_csv(file)\n",
    "\n",
    "print(df.head())  "
   ]
  }
 ],
 "metadata": {
  "kernelspec": {
   "display_name": ".venv",
   "language": "python",
   "name": "python3"
  },
  "language_info": {
   "codemirror_mode": {
    "name": "ipython",
    "version": 3
   },
   "file_extension": ".py",
   "mimetype": "text/x-python",
   "name": "python",
   "nbconvert_exporter": "python",
   "pygments_lexer": "ipython3",
   "version": "3.12.5"
  }
 },
 "nbformat": 4,
 "nbformat_minor": 2
}
