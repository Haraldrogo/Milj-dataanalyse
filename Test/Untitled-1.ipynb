{
 "cells": [
  {
   "cell_type": "code",
   "execution_count": 1,
   "metadata": {},
   "outputs": [
    {
     "name": "stdout",
     "output_type": "stream",
     "text": [
      "Miljøet funker\n",
      "skal tro om jeg får det til\n",
      "sjekker også idag om den funker\n",
      "hei\n",
      "hei\n"
     ]
    }
   ],
   "source": [
    "print (\"Miljøet funker\")\n",
    "print( \"skal tro om jeg får det til\")\n",
    "print(\"sjekker også idag om den funker\")\n",
    "print(\"hei\")\n",
    "print(\"hei\")\n",
    "\n"
   ]
  },
  {
   "cell_type": "code",
   "execution_count": null,
   "metadata": {},
   "outputs": [],
   "source": []
  }
 ],
 "metadata": {
  "kernelspec": {
   "display_name": "Python 3",
   "language": "python",
   "name": "python3"
  },
  "language_info": {
   "codemirror_mode": {
    "name": "ipython",
    "version": 3
   },
   "file_extension": ".py",
   "mimetype": "text/x-python",
   "name": "python",
   "nbconvert_exporter": "python",
   "pygments_lexer": "ipython3",
   "version": "3.13.2"
  }
 },
 "nbformat": 4,
 "nbformat_minor": 2
}
