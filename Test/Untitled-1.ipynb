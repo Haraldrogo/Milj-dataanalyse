{
 "cells": [
  {
   "cell_type": "code",
   "execution_count": null,
   "metadata": {},
   "outputs": [
    {
     "name": "stdout",
     "output_type": "stream",
     "text": [
      "     næring (SN2007);\"kvartal\";\"statistikkvariabel\";\"07251: Arbeidskraftkostnadsindeks (2020=100)  \\\n",
      "0     05-09b Bergverksdrift og utvinning;\"2000K1\";\"I...                                             \n",
      "1     05-09b Bergverksdrift og utvinning;\"2000K1\";\"E...                                             \n",
      "2     05-09b Bergverksdrift og utvinning;\"2000K1\";\"I...                                             \n",
      "3     05-09b Bergverksdrift og utvinning;\"2000K1\";\"E...                                             \n",
      "4     05-09b Bergverksdrift og utvinning;\"2000K1\";\"I...                                             \n",
      "...                                                 ...                                             \n",
      "2819  35 Forsyning av elektrisitet, gass-, damp og v...                                             \n",
      "2820  35 Forsyning av elektrisitet, gass-, damp og v...                                             \n",
      "2821  35 Forsyning av elektrisitet, gass-, damp og v...                                             \n",
      "2822  35 Forsyning av elektrisitet, gass-, damp og v...                                             \n",
      "2823  35 Forsyning av elektrisitet, gass-, damp og v...                                             \n",
      "\n",
      "      etter næring (SN2007)  kvartal og statistikkvariabel\"  \n",
      "0                         6                             NaN  \n",
      "1                       NaN                             NaN  \n",
      "2                         3                             NaN  \n",
      "3                       NaN                             NaN  \n",
      "4                         2                             NaN  \n",
      "...                     ...                             ...  \n",
      "2819                      9                             NaN  \n",
      "2820                      5                             NaN  \n",
      "2821                      3                             NaN  \n",
      "2822                      8                             NaN  \n",
      "2823                    NaN                             NaN  \n",
      "\n",
      "[2824 rows x 3 columns]\n"
     ]
    }
   ],
   "source": [
    "import pandas as pd\n",
    "\n",
    "\n",
    "df = pd.read_csv(r\"C:\\Anvendt Programmering\\Mappe del 1\\data.csv\")\n",
    "\n",
    "\n",
    "# Print hele filen\n",
    "print(df)\n",
    "ok \n"
   ]
  }
 ],
 "metadata": {
  "kernelspec": {
   "display_name": "Python 3",
   "language": "python",
   "name": "python3"
  },
  "language_info": {
   "codemirror_mode": {
    "name": "ipython",
    "version": 3
   },
   "file_extension": ".py",
   "mimetype": "text/x-python",
   "name": "python",
   "nbconvert_exporter": "python",
   "pygments_lexer": "ipython3",
   "version": "3.11.4"
  }
 },
 "nbformat": 4,
 "nbformat_minor": 2
}
